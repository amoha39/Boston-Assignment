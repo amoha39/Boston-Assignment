{
 "cells": [
  {
   "cell_type": "markdown",
   "metadata": {},
   "source": [
    "## Boston Housing Assignment\n",
    "\n",
    "In this assignment you'll be using linear regression to estimate the cost of house in boston, using a well known dataset.\n",
    "\n",
    "Goals:\n",
    "+  Measure the performance of the model I created using $R^{2}$ and MSE\n",
    "> Learn how to use sklearn.metrics.r2_score and sklearn.metrics.mean_squared_error\n",
    "+  Implement a new model using L2 regularization\n",
    "> Use sklearn.linear_model.Ridge or sklearn.linear_model.Lasso \n",
    "+  Get the best model you can by optimizing the regularization parameter.   "
   ]
  },
  {
   "cell_type": "code",
   "execution_count": 56,
   "metadata": {
    "collapsed": false
   },
   "outputs": [],
   "source": [
    "from sklearn import datasets\n",
    "import pandas as pd\n",
    "from sklearn.preprocessing import StandardScaler\n",
    "from sklearn.cross_validation import train_test_split\n",
    "from sklearn.metrics import mean_squared_error\n",
    "from sklearn.metrics import r2_score\n",
    "from sklearn.linear_model import LinearRegression"
   ]
  },
  {
   "cell_type": "code",
   "execution_count": 57,
   "metadata": {
    "collapsed": false
   },
   "outputs": [
    {
     "name": "stdout",
     "output_type": "stream",
     "text": [
      "Boston House Prices dataset\n",
      "\n",
      "Notes\n",
      "------\n",
      "Data Set Characteristics:  \n",
      "\n",
      "    :Number of Instances: 506 \n",
      "\n",
      "    :Number of Attributes: 13 numeric/categorical predictive\n",
      "    \n",
      "    :Median Value (attribute 14) is usually the target\n",
      "\n",
      "    :Attribute Information (in order):\n",
      "        - CRIM     per capita crime rate by town\n",
      "        - ZN       proportion of residential land zoned for lots over 25,000 sq.ft.\n",
      "        - INDUS    proportion of non-retail business acres per town\n",
      "        - CHAS     Charles River dummy variable (= 1 if tract bounds river; 0 otherwise)\n",
      "        - NOX      nitric oxides concentration (parts per 10 million)\n",
      "        - RM       average number of rooms per dwelling\n",
      "        - AGE      proportion of owner-occupied units built prior to 1940\n",
      "        - DIS      weighted distances to five Boston employment centres\n",
      "        - RAD      index of accessibility to radial highways\n",
      "        - TAX      full-value property-tax rate per $10,000\n",
      "        - PTRATIO  pupil-teacher ratio by town\n",
      "        - B        1000(Bk - 0.63)^2 where Bk is the proportion of blacks by town\n",
      "        - LSTAT    % lower status of the population\n",
      "        - MEDV     Median value of owner-occupied homes in $1000's\n",
      "\n",
      "    :Missing Attribute Values: None\n",
      "\n",
      "    :Creator: Harrison, D. and Rubinfeld, D.L.\n",
      "\n",
      "This is a copy of UCI ML housing dataset.\n",
      "http://archive.ics.uci.edu/ml/datasets/Housing\n",
      "\n",
      "\n",
      "This dataset was taken from the StatLib library which is maintained at Carnegie Mellon University.\n",
      "\n",
      "The Boston house-price data of Harrison, D. and Rubinfeld, D.L. 'Hedonic\n",
      "prices and the demand for clean air', J. Environ. Economics & Management,\n",
      "vol.5, 81-102, 1978.   Used in Belsley, Kuh & Welsch, 'Regression diagnostics\n",
      "...', Wiley, 1980.   N.B. Various transformations are used in the table on\n",
      "pages 244-261 of the latter.\n",
      "\n",
      "The Boston house-price data has been used in many machine learning papers that address regression\n",
      "problems.   \n",
      "     \n",
      "**References**\n",
      "\n",
      "   - Belsley, Kuh & Welsch, 'Regression diagnostics: Identifying Influential Data and Sources of Collinearity', Wiley, 1980. 244-261.\n",
      "   - Quinlan,R. (1993). Combining Instance-Based and Model-Based Learning. In Proceedings on the Tenth International Conference of Machine Learning, 236-243, University of Massachusetts, Amherst. Morgan Kaufmann.\n",
      "   - many more! (see http://archive.ics.uci.edu/ml/datasets/Housing)\n",
      "\n"
     ]
    }
   ],
   "source": [
    "bean = datasets.load_boston()\n",
    "print bean.DESCR"
   ]
  },
  {
   "cell_type": "code",
   "execution_count": 58,
   "metadata": {
    "collapsed": false
   },
   "outputs": [],
   "source": [
    "def load_boston():\n",
    "    scaler = StandardScaler()\n",
    "    boston = datasets.load_boston()\n",
    "    X=boston.data\n",
    "    y=boston.target\n",
    "    X = scaler.fit_transform(X)\n",
    "    return train_test_split(X,y)    "
   ]
  },
  {
   "cell_type": "code",
   "execution_count": 59,
   "metadata": {
    "collapsed": false
   },
   "outputs": [],
   "source": [
    "X_train, X_test, y_train, y_test = load_boston()"
   ]
  },
  {
   "cell_type": "code",
   "execution_count": 60,
   "metadata": {
    "collapsed": false
   },
   "outputs": [
    {
     "data": {
      "text/plain": [
       "(379L, 13L)"
      ]
     },
     "execution_count": 60,
     "metadata": {},
     "output_type": "execute_result"
    }
   ],
   "source": [
    "X_train.shape"
   ]
  },
  {
   "cell_type": "markdown",
   "metadata": {},
   "source": [
    "### Fitting a Linear Regression\n",
    "\n",
    "It's as easy as instantiating a new regression object (line 1) and giving your regression object your training data\n",
    "(line 2) by calling .fit(independent variables, dependent variable)\n",
    "\n"
   ]
  },
  {
   "cell_type": "code",
   "execution_count": 61,
   "metadata": {
    "collapsed": false
   },
   "outputs": [
    {
     "data": {
      "text/plain": [
       "LinearRegression(copy_X=True, fit_intercept=True, n_jobs=1, normalize=False)"
      ]
     },
     "execution_count": 61,
     "metadata": {},
     "output_type": "execute_result"
    }
   ],
   "source": [
    "clf = LinearRegression()\n",
    "clf.fit(X_train, y_train)"
   ]
  },
  {
   "cell_type": "markdown",
   "metadata": {},
   "source": [
    "### Making a Prediction\n",
    "X_test is our holdout set of data.  We know the answer (y_test) but the computer does not.   \n",
    "\n",
    "Using the command below, I create a tuple for each observation, where I'm combining the real value (y_test) with\n",
    "the value our regressor predicts (clf.predict(X_test))\n",
    "\n",
    "Use a similiar format to get your r2 and mse metrics working.  Using the [scikit learn api](http://scikit-learn.org/stable/modules/model_evaluation.html) if you need help!"
   ]
  },
  {
   "cell_type": "code",
   "execution_count": 62,
   "metadata": {
    "collapsed": false
   },
   "outputs": [
    {
     "data": {
      "text/plain": [
       "[(7.2000000000000002, 8.6375019873652015),\n",
       " (18.399999999999999, 14.816986853005069),\n",
       " (18.399999999999999, 19.046303087554069),\n",
       " (26.399999999999999, 23.160595366710634),\n",
       " (18.899999999999999, 15.234974462352474),\n",
       " (20.800000000000001, 23.29185262119848),\n",
       " (29.899999999999999, 31.826974125655433),\n",
       " (15.699999999999999, 13.89276833865388),\n",
       " (17.699999999999999, 20.506752613754934),\n",
       " (23.399999999999999, 24.492738544649935),\n",
       " (13.9, 18.117692914991736),\n",
       " (50.0, 39.329006297689631),\n",
       " (23.800000000000001, 25.363790391536281),\n",
       " (16.699999999999999, 20.939847295789853),\n",
       " (31.0, 35.057982106692549),\n",
       " (13.300000000000001, 13.047070956514037),\n",
       " (29.800000000000001, 32.787189732270321),\n",
       " (24.800000000000001, 25.327336023747701),\n",
       " (8.5, 16.702742225737456),\n",
       " (19.399999999999999, 17.651556725478734),\n",
       " (19.399999999999999, 25.761529373751287),\n",
       " (19.300000000000001, 20.218177137781776),\n",
       " (20.600000000000001, 21.669410182838366),\n",
       " (20.100000000000001, 20.278305730613713),\n",
       " (33.299999999999997, 36.495703693304932),\n",
       " (23.899999999999999, 26.843764307562264),\n",
       " (22.899999999999999, 20.539173107662656),\n",
       " (50.0, 36.133527135773932),\n",
       " (25.0, 28.664817078914346),\n",
       " (13.300000000000001, 16.666003640575685),\n",
       " (21.0, 20.74397280299236),\n",
       " (19.199999999999999, 23.750375956351991),\n",
       " (13.5, 13.811584645630854),\n",
       " (28.699999999999999, 31.028942768502645),\n",
       " (17.800000000000001, 17.826961282752169),\n",
       " (16.300000000000001, 11.852082535573944),\n",
       " (22.600000000000001, 22.822161951667439),\n",
       " (21.399999999999999, 25.09127725330212),\n",
       " (44.0, 37.362290434714559),\n",
       " (28.699999999999999, 25.573579197513052),\n",
       " (39.799999999999997, 34.985119521072399),\n",
       " (32.0, 33.797802089328989),\n",
       " (24.600000000000001, 29.52025662111771),\n",
       " (7.2000000000000002, 10.165579266395422),\n",
       " (23.300000000000001, 28.835496070979882),\n",
       " (28.100000000000001, 25.267649516764724),\n",
       " (22.600000000000001, 27.011431465026277),\n",
       " (14.9, 17.55779802202419),\n",
       " (23.399999999999999, 24.102098869539784),\n",
       " (19.399999999999999, 19.728867172109595),\n",
       " (21.899999999999999, 35.618207078498287),\n",
       " (22.5, 29.564873949447943),\n",
       " (23.600000000000001, 29.482265217337705),\n",
       " (22.0, 20.881478348669194),\n",
       " (17.399999999999999, 14.993638456480022),\n",
       " (21.699999999999999, 20.533558690082348),\n",
       " (13.9, 13.428758983645487),\n",
       " (23.699999999999999, 28.893216831612143),\n",
       " (22.199999999999999, 24.154539732880806),\n",
       " (14.5, 13.873865979977506),\n",
       " (35.399999999999999, 31.258933992048419),\n",
       " (10.9, 13.943676404780458),\n",
       " (20.199999999999999, 16.233508141107361),\n",
       " (24.800000000000001, 31.1520673842478),\n",
       " (36.5, 36.351498426853439),\n",
       " (50.0, 42.877038973329334),\n",
       " (8.3000000000000007, 13.077136256257697),\n",
       " (20.100000000000001, 14.736922662711343),\n",
       " (32.5, 31.13557137377741),\n",
       " (21.699999999999999, 21.073957645302801),\n",
       " (22.899999999999999, 23.492228451505603),\n",
       " (19.100000000000001, 17.456741472817569),\n",
       " (22.899999999999999, 25.156128534901651),\n",
       " (50.0, 24.086436323208396),\n",
       " (22.199999999999999, 19.657508420311387),\n",
       " (20.600000000000001, 19.968419320083644),\n",
       " (11.9, 8.3060477528432841),\n",
       " (25.0, 27.999251923997377),\n",
       " (19.899999999999999, 19.245553081050897),\n",
       " (18.5, 25.217406166336108),\n",
       " (19.899999999999999, 18.384506319310098),\n",
       " (21.199999999999999, 21.266738500630712),\n",
       " (50.0, 36.17553101601041),\n",
       " (29.100000000000001, 30.375089150001809),\n",
       " (22.199999999999999, 24.640772801966069),\n",
       " (11.699999999999999, 16.167816046718421),\n",
       " (19.600000000000001, 21.403044612103788),\n",
       " (15.6, 12.389441757710609),\n",
       " (12.6, 18.381170020938757),\n",
       " (24.699999999999999, 24.975584777745144),\n",
       " (10.4, 7.2802177958941812),\n",
       " (15.1, 17.514009411056218),\n",
       " (16.600000000000001, 18.466661664747178),\n",
       " (23.600000000000001, 30.773636483397905),\n",
       " (24.699999999999999, 24.933387367348814),\n",
       " (29.100000000000001, 31.705007443172526),\n",
       " (16.5, 12.481038353592155),\n",
       " (30.100000000000001, 25.581966820134827),\n",
       " (21.699999999999999, 24.537580144760451),\n",
       " (11.800000000000001, 13.777523470741357),\n",
       " (23.300000000000001, 22.117071564483918),\n",
       " (26.600000000000001, 28.320126391708058),\n",
       " (14.6, 8.7725539113587132),\n",
       " (50.0, 37.962124112023808),\n",
       " (13.4, 12.800418518086165),\n",
       " (21.800000000000001, 20.741479953221887),\n",
       " (25.300000000000001, 25.516964576162739),\n",
       " (42.299999999999997, 37.220482123701686),\n",
       " (24.100000000000001, 25.485349105962154),\n",
       " (21.5, 23.087890575769386),\n",
       " (29.0, 32.399145597010573),\n",
       " (22.699999999999999, 20.511134092354446),\n",
       " (8.0999999999999996, 2.9557118532033826),\n",
       " (19.600000000000001, 23.224278550792896),\n",
       " (32.200000000000003, 31.695768626818033),\n",
       " (31.600000000000001, 33.267175523849161),\n",
       " (16.800000000000001, 18.618306470199617),\n",
       " (16.100000000000001, 18.962628987817059),\n",
       " (19.399999999999999, 23.483252865329654),\n",
       " (7.5, 13.994933495860298),\n",
       " (28.0, 28.483946032115668),\n",
       " (19.100000000000001, 23.961660044208038),\n",
       " (20.0, 15.300637996907415),\n",
       " (33.200000000000003, 33.630329289208248),\n",
       " (50.0, 32.488315491475973),\n",
       " (17.100000000000001, 17.650752399449203),\n",
       " (24.5, 20.825070024688753)]"
      ]
     },
     "execution_count": 62,
     "metadata": {},
     "output_type": "execute_result"
    }
   ],
   "source": [
    "zip (y_test, clf.predict(X_test))"
   ]
  },
  {
   "cell_type": "markdown",
   "metadata": {
    "collapsed": false
   },
   "source": [
    "### Implementing the scikit learn's r2 and mse methods to measure the performance of linear regressor"
   ]
  },
  {
   "cell_type": "code",
   "execution_count": 63,
   "metadata": {
    "collapsed": false
   },
   "outputs": [
    {
     "data": {
      "text/plain": [
       "0.71866461329728337"
      ]
     },
     "execution_count": 63,
     "metadata": {},
     "output_type": "execute_result"
    }
   ],
   "source": [
    "r2_score(y_test, clf.predict(X_test))"
   ]
  },
  {
   "cell_type": "code",
   "execution_count": 64,
   "metadata": {
    "collapsed": false
   },
   "outputs": [
    {
     "data": {
      "text/plain": [
       "25.124795467189692"
      ]
     },
     "execution_count": 64,
     "metadata": {},
     "output_type": "execute_result"
    }
   ],
   "source": [
    "mean_squared_error(y_test, clf.predict(X_test))"
   ]
  },
  {
   "cell_type": "code",
   "execution_count": 65,
   "metadata": {
    "collapsed": false
   },
   "outputs": [
    {
     "data": {
      "text/plain": [
       "array([-1.06492455,  0.91303288, -0.27340214,  0.19271607, -2.03795933,\n",
       "        2.67940299, -0.09159266, -3.03417406,  3.07810556, -2.0611851 ,\n",
       "       -2.24842139,  0.83138542, -3.50531955])"
      ]
     },
     "execution_count": 65,
     "metadata": {},
     "output_type": "execute_result"
    }
   ],
   "source": [
    "clf.coef_"
   ]
  },
  {
   "cell_type": "markdown",
   "metadata": {},
   "source": [
    "### Implementing the sklearn.linear_model.Ridge"
   ]
  },
  {
   "cell_type": "code",
   "execution_count": 66,
   "metadata": {
    "collapsed": false
   },
   "outputs": [],
   "source": [
    "from sklearn import linear_model\n",
    "from sklearn.linear_model import Ridge\n",
    "import math\n",
    "import numpy as np"
   ]
  },
  {
   "cell_type": "code",
   "execution_count": 67,
   "metadata": {
    "collapsed": false
   },
   "outputs": [
    {
     "data": {
      "text/plain": [
       "Ridge(alpha=1.0, copy_X=True, fit_intercept=True, max_iter=None,\n",
       "   normalize=False, random_state=None, solver='auto', tol=0.001)"
      ]
     },
     "execution_count": 67,
     "metadata": {},
     "output_type": "execute_result"
    }
   ],
   "source": [
    "clf= linear_model.Ridge()\n",
    "clf.fit(X_train,y_train)"
   ]
  },
  {
   "cell_type": "code",
   "execution_count": 68,
   "metadata": {
    "collapsed": false
   },
   "outputs": [
    {
     "data": {
      "text/plain": [
       "0.71885331095280192"
      ]
     },
     "execution_count": 68,
     "metadata": {},
     "output_type": "execute_result"
    }
   ],
   "source": [
    "r2_score(y_test, clf.predict(X_test))"
   ]
  },
  {
   "cell_type": "code",
   "execution_count": 69,
   "metadata": {
    "collapsed": false
   },
   "outputs": [
    {
     "data": {
      "text/plain": [
       "25.107943729995863"
      ]
     },
     "execution_count": 69,
     "metadata": {},
     "output_type": "execute_result"
    }
   ],
   "source": [
    "mean_squared_error(y_test, clf.predict(X_test))"
   ]
  },
  {
   "cell_type": "markdown",
   "metadata": {},
   "source": [
    "### Optimizing the Regression model by adjusting regularization parameter"
   ]
  },
  {
   "cell_type": "code",
   "execution_count": 70,
   "metadata": {
    "collapsed": false
   },
   "outputs": [
    {
     "data": {
      "text/plain": [
       "Ridge(alpha=1, copy_X=True, fit_intercept=True, max_iter=None,\n",
       "   normalize=False, random_state=None, solver='auto', tol=0.001)"
      ]
     },
     "execution_count": 70,
     "metadata": {},
     "output_type": "execute_result"
    }
   ],
   "source": [
    "clf= linear_model.Ridge(alpha=1)\n",
    "clf.fit(X_train,y_train)"
   ]
  },
  {
   "cell_type": "code",
   "execution_count": 71,
   "metadata": {
    "collapsed": false
   },
   "outputs": [
    {
     "data": {
      "text/plain": [
       "0.71885331095280192"
      ]
     },
     "execution_count": 71,
     "metadata": {},
     "output_type": "execute_result"
    }
   ],
   "source": [
    "r2_score(y_test, clf.predict(X_test))"
   ]
  },
  {
   "cell_type": "code",
   "execution_count": 72,
   "metadata": {
    "collapsed": false
   },
   "outputs": [
    {
     "data": {
      "text/plain": [
       "25.107943729995863"
      ]
     },
     "execution_count": 72,
     "metadata": {},
     "output_type": "execute_result"
    }
   ],
   "source": [
    "mean_squared_error(y_test, clf.predict(X_test))"
   ]
  },
  {
   "cell_type": "code",
   "execution_count": 73,
   "metadata": {
    "collapsed": false
   },
   "outputs": [
    {
     "data": {
      "text/plain": [
       "Ridge(alpha=10, copy_X=True, fit_intercept=True, max_iter=None,\n",
       "   normalize=False, random_state=None, solver='auto', tol=0.001)"
      ]
     },
     "execution_count": 73,
     "metadata": {},
     "output_type": "execute_result"
    }
   ],
   "source": [
    "clf= linear_model.Ridge(alpha=10)\n",
    "clf.fit(X_train,y_train)"
   ]
  },
  {
   "cell_type": "code",
   "execution_count": 74,
   "metadata": {
    "collapsed": false
   },
   "outputs": [
    {
     "data": {
      "text/plain": [
       "0.71897273115250193"
      ]
     },
     "execution_count": 74,
     "metadata": {},
     "output_type": "execute_result"
    }
   ],
   "source": [
    "r2_score(y_test, clf.predict(X_test))"
   ]
  },
  {
   "cell_type": "code",
   "execution_count": 75,
   "metadata": {
    "collapsed": false
   },
   "outputs": [
    {
     "data": {
      "text/plain": [
       "25.097278850162294"
      ]
     },
     "execution_count": 75,
     "metadata": {},
     "output_type": "execute_result"
    }
   ],
   "source": [
    "mean_squared_error(y_test, clf.predict(X_test))"
   ]
  },
  {
   "cell_type": "code",
   "execution_count": 77,
   "metadata": {
    "collapsed": false
   },
   "outputs": [
    {
     "data": {
      "text/plain": [
       "Ridge(alpha=100, copy_X=True, fit_intercept=True, max_iter=None,\n",
       "   normalize=False, random_state=None, solver='auto', tol=0.001)"
      ]
     },
     "execution_count": 77,
     "metadata": {},
     "output_type": "execute_result"
    }
   ],
   "source": [
    "clf = linear_model.Ridge(alpha=100)\n",
    "clf.fit(X_train,y_train)"
   ]
  },
  {
   "cell_type": "code",
   "execution_count": 78,
   "metadata": {
    "collapsed": false
   },
   "outputs": [
    {
     "data": {
      "text/plain": [
       "0.69472353842942025"
      ]
     },
     "execution_count": 78,
     "metadata": {},
     "output_type": "execute_result"
    }
   ],
   "source": [
    "r2_score(y_test, clf.predict(X_test))"
   ]
  },
  {
   "cell_type": "code",
   "execution_count": 79,
   "metadata": {
    "collapsed": false
   },
   "outputs": [
    {
     "data": {
      "text/plain": [
       "27.262864966265361"
      ]
     },
     "execution_count": 79,
     "metadata": {},
     "output_type": "execute_result"
    }
   ],
   "source": [
    "mean_squared_error(y_test, clf.predict(X_test))"
   ]
  },
  {
   "cell_type": "code",
   "execution_count": 80,
   "metadata": {
    "collapsed": false
   },
   "outputs": [
    {
     "data": {
      "text/plain": [
       "Ridge(alpha=0.1, copy_X=True, fit_intercept=True, max_iter=None,\n",
       "   normalize=False, random_state=None, solver='auto', tol=0.001)"
      ]
     },
     "execution_count": 80,
     "metadata": {},
     "output_type": "execute_result"
    }
   ],
   "source": [
    "clf = linear_model.Ridge(alpha=0.1)\n",
    "clf.fit(X_train,y_train)"
   ]
  },
  {
   "cell_type": "code",
   "execution_count": 81,
   "metadata": {
    "collapsed": false
   },
   "outputs": [
    {
     "data": {
      "text/plain": [
       "0.71868598410145113"
      ]
     },
     "execution_count": 81,
     "metadata": {},
     "output_type": "execute_result"
    }
   ],
   "source": [
    "r2_score(y_test, clf.predict(X_test))"
   ]
  },
  {
   "cell_type": "code",
   "execution_count": 82,
   "metadata": {
    "collapsed": false
   },
   "outputs": [
    {
     "data": {
      "text/plain": [
       "25.122886936983182"
      ]
     },
     "execution_count": 82,
     "metadata": {},
     "output_type": "execute_result"
    }
   ],
   "source": [
    "mean_squared_error(y_test, clf.predict(X_test))"
   ]
  },
  {
   "cell_type": "markdown",
   "metadata": {},
   "source": []
  }
 ],
 "metadata": {
  "anaconda-cloud": {},
  "kernelspec": {
   "display_name": "Python [Root]",
   "language": "python",
   "name": "Python [Root]"
  },
  "language_info": {
   "codemirror_mode": {
    "name": "ipython",
    "version": 2
   },
   "file_extension": ".py",
   "mimetype": "text/x-python",
   "name": "python",
   "nbconvert_exporter": "python",
   "pygments_lexer": "ipython2",
   "version": "2.7.12"
  }
 },
 "nbformat": 4,
 "nbformat_minor": 0
}
